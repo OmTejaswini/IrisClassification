{
 "cells": [
  {
   "cell_type": "markdown",
   "id": "b4ec93e3",
   "metadata": {},
   "source": [
    "# Imports"
   ]
  },
  {
   "cell_type": "code",
   "execution_count": 1,
   "id": "b4835030",
   "metadata": {},
   "outputs": [],
   "source": [
    "import pandas as pd\n",
    "import numpy as np\n",
    "import matplotlib.pyplot as plt\n",
    "import os\n",
    "import tensorflow as tf\n",
    "from sklearn.model_selection import train_test_split\n",
    "from sklearn.preprocessing import StandardScaler\n",
    "\n",
    "import warnings\n",
    "warnings.filterwarnings(\"ignore\")"
   ]
  },
  {
   "cell_type": "markdown",
   "id": "91558a2b",
   "metadata": {},
   "source": [
    "# Loading Dataset"
   ]
  },
  {
   "cell_type": "code",
   "execution_count": 2,
   "id": "3f5558db",
   "metadata": {
    "scrolled": true
   },
   "outputs": [
    {
     "name": "stdout",
     "output_type": "stream",
     "text": [
      "   Sepal.Length  Sepal.Width  Petal.Length  Petal.Width Species\n",
      "0           5.1          3.5           1.4          0.2  setosa\n",
      "1           4.9          3.0           1.4          0.2  setosa\n",
      "2           4.7          3.2           1.3          0.2  setosa\n",
      "3           4.6          3.1           1.5          0.2  setosa\n",
      "4           5.0          3.6           1.4          0.2  setosa\n"
     ]
    }
   ],
   "source": [
    "iris_data=pd.read_csv(\"iris.csv\")\n",
    "print(iris_data.head())"
   ]
  },
  {
   "cell_type": "markdown",
   "id": "7cd398fc",
   "metadata": {},
   "source": [
    "# Label Encoding"
   ]
  },
  {
   "cell_type": "code",
   "execution_count": 3,
   "id": "f54bf2cd",
   "metadata": {},
   "outputs": [
    {
     "name": "stdout",
     "output_type": "stream",
     "text": [
      "   Sepal.Length  Sepal.Width  Petal.Length  Petal.Width  Species\n",
      "0           5.1          3.5           1.4          0.2        0\n",
      "1           4.9          3.0           1.4          0.2        0\n",
      "2           4.7          3.2           1.3          0.2        0\n",
      "3           4.6          3.1           1.5          0.2        0\n",
      "4           5.0          3.6           1.4          0.2        0\n"
     ]
    }
   ],
   "source": [
    "from sklearn.preprocessing import LabelEncoder\n",
    "\n",
    "label_encoder=LabelEncoder()\n",
    "\n",
    "iris_data['Species']=label_encoder.fit_transform(iris_data['Species'])\n",
    "\n",
    "print(iris_data.head())"
   ]
  },
  {
   "cell_type": "code",
   "execution_count": 4,
   "id": "06ba1787",
   "metadata": {},
   "outputs": [
    {
     "name": "stdout",
     "output_type": "stream",
     "text": [
      "(150, 5)\n"
     ]
    }
   ],
   "source": [
    "# Converting to numpy array\n",
    "np_iris=iris_data.to_numpy()\n",
    "print(np_iris.shape)"
   ]
  },
  {
   "cell_type": "markdown",
   "id": "f2915130",
   "metadata": {},
   "source": [
    "# Getting Features and Target values"
   ]
  },
  {
   "cell_type": "code",
   "execution_count": 5,
   "id": "1e88c292",
   "metadata": {},
   "outputs": [
    {
     "name": "stdout",
     "output_type": "stream",
     "text": [
      "Features :\n",
      "[[5.1 3.5 1.4 0.2]\n",
      " [4.9 3.  1.4 0.2]\n",
      " [4.7 3.2 1.3 0.2]\n",
      " [4.6 3.1 1.5 0.2]\n",
      " [5.  3.6 1.4 0.2]]\n",
      "Target:\n",
      "[0. 0. 0. 0. 0.]\n"
     ]
    }
   ],
   "source": [
    "X_data=np_iris[:,0:4]\n",
    "Y_data=np_iris[:,4]\n",
    "\n",
    "print(\"Features :\")\n",
    "print(X_data[:5,:])\n",
    "\n",
    "print(\"Target:\")\n",
    "print(Y_data[:5])"
   ]
  },
  {
   "cell_type": "markdown",
   "id": "6ff7e5d4",
   "metadata": {},
   "source": [
    "# Standardize the Dataset"
   ]
  },
  {
   "cell_type": "code",
   "execution_count": 6,
   "id": "5068c299",
   "metadata": {},
   "outputs": [
    {
     "name": "stdout",
     "output_type": "stream",
     "text": [
      "Features after Scaling:\n",
      "[[-0.90068117  1.01900435 -1.34022653 -1.3154443 ]\n",
      " [-1.14301691 -0.13197948 -1.34022653 -1.3154443 ]\n",
      " [-1.38535265  0.32841405 -1.39706395 -1.3154443 ]\n",
      " [-1.50652052  0.09821729 -1.2833891  -1.3154443 ]\n",
      " [-1.02184904  1.24920112 -1.34022653 -1.3154443 ]]\n",
      "target after one-hot encoding:\n",
      "[[1. 0. 0.]\n",
      " [1. 0. 0.]\n",
      " [1. 0. 0.]\n",
      " [1. 0. 0.]\n",
      " [1. 0. 0.]]\n"
     ]
    }
   ],
   "source": [
    "scaler=StandardScaler().fit(X_data)\n",
    "\n",
    "X_data=scaler.transform(X_data)\n",
    "\n",
    "Y_data=tf.keras.utils.to_categorical(Y_data,3)\n",
    "\n",
    "print(\"Features after Scaling:\")\n",
    "print(X_data[:5,:])\n",
    "\n",
    "print(\"target after one-hot encoding:\")\n",
    "print(Y_data[:5])"
   ]
  },
  {
   "cell_type": "markdown",
   "id": "06ac834f",
   "metadata": {},
   "source": [
    "# Split train and test sets"
   ]
  },
  {
   "cell_type": "code",
   "execution_count": 7,
   "id": "b7ad3cbe",
   "metadata": {},
   "outputs": [
    {
     "name": "stdout",
     "output_type": "stream",
     "text": [
      "(135, 4) (15, 4) (135, 3) (15, 3)\n"
     ]
    }
   ],
   "source": [
    "X_train, X_test, Y_train, Y_test=train_test_split(X_data, Y_data, test_size=0.10)\n",
    "\n",
    "print(X_train.shape, X_test.shape, Y_train.shape, Y_test.shape)"
   ]
  },
  {
   "cell_type": "markdown",
   "id": "01312d98",
   "metadata": {},
   "source": [
    "# Creating and compiling model"
   ]
  },
  {
   "cell_type": "code",
   "execution_count": 8,
   "id": "15218752",
   "metadata": {},
   "outputs": [
    {
     "name": "stdout",
     "output_type": "stream",
     "text": [
      "Model: \"sequential\"\n",
      "_________________________________________________________________\n",
      " Layer (type)                Output Shape              Param #   \n",
      "=================================================================\n",
      " Hidden-Layer-1 (Dense)      (None, 128)               640       \n",
      "                                                                 \n",
      " Hidden-Layer-2 (Dense)      (None, 128)               16512     \n",
      "                                                                 \n",
      " Output-Layer (Dense)        (None, 3)                 387       \n",
      "                                                                 \n",
      "=================================================================\n",
      "Total params: 17,539\n",
      "Trainable params: 17,539\n",
      "Non-trainable params: 0\n",
      "_________________________________________________________________\n"
     ]
    }
   ],
   "source": [
    "from tensorflow import keras\n",
    "\n",
    "CLASSES=3\n",
    "\n",
    "# Sequential model\n",
    "model=tf.keras.models.Sequential()\n",
    "\n",
    "# Hidden Layers\n",
    "model.add(keras.layers.Dense(128, input_shape=(4,), name=\"Hidden-Layer-1\", activation=\"relu\"))\n",
    "model.add(keras.layers.Dense(128, name=\"Hidden-Layer-2\", activation=\"relu\"))\n",
    "# Softmax\n",
    "model.add(keras.layers.Dense(CLASSES, name=\"Output-Layer\", activation=\"softmax\"))\n",
    "\n",
    "# compile the model\n",
    "model.compile(loss=\"categorical_crossentropy\", metrics=[\"accuracy\"])\n",
    "\n",
    "model.summary()"
   ]
  },
  {
   "cell_type": "markdown",
   "id": "1ae4fd70",
   "metadata": {},
   "source": [
    "# Training the model"
   ]
  },
  {
   "cell_type": "code",
   "execution_count": 9,
   "id": "166f662c",
   "metadata": {},
   "outputs": [
    {
     "name": "stdout",
     "output_type": "stream",
     "text": [
      "Epoch 1/20\n",
      "7/7 [==============================] - 1s 47ms/step - loss: 0.8489 - accuracy: 0.8148 - val_loss: 0.6447 - val_accuracy: 0.7778\n",
      "Epoch 2/20\n",
      "7/7 [==============================] - 0s 10ms/step - loss: 0.5467 - accuracy: 0.8704 - val_loss: 0.5409 - val_accuracy: 0.7037\n",
      "Epoch 3/20\n",
      "7/7 [==============================] - 0s 8ms/step - loss: 0.4169 - accuracy: 0.8796 - val_loss: 0.5017 - val_accuracy: 0.6667\n",
      "Epoch 4/20\n",
      "7/7 [==============================] - 0s 10ms/step - loss: 0.3415 - accuracy: 0.8889 - val_loss: 0.4748 - val_accuracy: 0.7037\n",
      "Epoch 5/20\n",
      "7/7 [==============================] - 0s 8ms/step - loss: 0.2935 - accuracy: 0.8981 - val_loss: 0.4665 - val_accuracy: 0.7037\n",
      "Epoch 6/20\n",
      "7/7 [==============================] - 0s 8ms/step - loss: 0.2568 - accuracy: 0.8981 - val_loss: 0.4530 - val_accuracy: 0.7037\n",
      "Epoch 7/20\n",
      "7/7 [==============================] - 0s 10ms/step - loss: 0.2318 - accuracy: 0.9167 - val_loss: 0.4494 - val_accuracy: 0.7407\n",
      "Epoch 8/20\n",
      "7/7 [==============================] - 0s 8ms/step - loss: 0.2030 - accuracy: 0.9259 - val_loss: 0.4758 - val_accuracy: 0.7407\n",
      "Epoch 9/20\n",
      "7/7 [==============================] - 0s 7ms/step - loss: 0.1929 - accuracy: 0.8981 - val_loss: 0.4622 - val_accuracy: 0.8148\n",
      "Epoch 10/20\n",
      "7/7 [==============================] - 0s 8ms/step - loss: 0.1778 - accuracy: 0.9352 - val_loss: 0.4193 - val_accuracy: 0.7407\n",
      "Epoch 11/20\n",
      "7/7 [==============================] - 0s 8ms/step - loss: 0.1669 - accuracy: 0.9259 - val_loss: 0.4366 - val_accuracy: 0.8148\n",
      "Epoch 12/20\n",
      "7/7 [==============================] - 0s 8ms/step - loss: 0.1493 - accuracy: 0.9537 - val_loss: 0.4157 - val_accuracy: 0.8148\n",
      "Epoch 13/20\n",
      "7/7 [==============================] - 0s 5ms/step - loss: 0.1467 - accuracy: 0.9537 - val_loss: 0.3929 - val_accuracy: 0.8519\n",
      "Epoch 14/20\n",
      "7/7 [==============================] - 0s 5ms/step - loss: 0.1273 - accuracy: 0.9537 - val_loss: 0.4371 - val_accuracy: 0.8519\n",
      "Epoch 15/20\n",
      "7/7 [==============================] - 0s 5ms/step - loss: 0.1280 - accuracy: 0.9630 - val_loss: 0.3634 - val_accuracy: 0.8519\n",
      "Epoch 16/20\n",
      "7/7 [==============================] - 0s 8ms/step - loss: 0.1139 - accuracy: 0.9630 - val_loss: 0.4029 - val_accuracy: 0.8519\n",
      "Epoch 17/20\n",
      "7/7 [==============================] - 0s 8ms/step - loss: 0.1063 - accuracy: 0.9630 - val_loss: 0.3619 - val_accuracy: 0.8519\n",
      "Epoch 18/20\n",
      "7/7 [==============================] - 0s 8ms/step - loss: 0.1049 - accuracy: 0.9630 - val_loss: 0.3782 - val_accuracy: 0.8519\n",
      "Epoch 19/20\n",
      "7/7 [==============================] - 0s 8ms/step - loss: 0.0986 - accuracy: 0.9630 - val_loss: 0.3873 - val_accuracy: 0.8519\n",
      "Epoch 20/20\n",
      "7/7 [==============================] - 0s 7ms/step - loss: 0.0854 - accuracy: 0.9815 - val_loss: 0.4163 - val_accuracy: 0.8519\n"
     ]
    }
   ],
   "source": [
    "VERBOSE=1\n",
    "BATCH_SIZE=16\n",
    "EPOCHS=20\n",
    "VALIDATION_SPLIT=0.2\n",
    "\n",
    "history=model.fit(X_train, Y_train, batch_size=BATCH_SIZE, epochs=EPOCHS, verbose=VERBOSE, validation_split=VALIDATION_SPLIT)"
   ]
  },
  {
   "cell_type": "markdown",
   "id": "83c04afc",
   "metadata": {},
   "source": [
    "# Accuracy plot"
   ]
  },
  {
   "cell_type": "code",
   "execution_count": 11,
   "id": "3830808b",
   "metadata": {},
   "outputs": [
    {
     "data": {
      "image/png": "[encoded data removed]",
      "text/plain": [
       "<Figure size 800x500 with 1 Axes>"
      ]
     },
     "metadata": {},
     "output_type": "display_data"
    }
   ],
   "source": [
    "import matplotlib.pyplot as plt\n",
    "\n",
    "pd.DataFrame(history.history)[\"accuracy\"].plot(figsize=(8,5))\n",
    "plt.title(\"Accuracy improvement after each epoch\")\n",
    "plt.show()"
   ]
  },
  {
   "cell_type": "markdown",
   "id": "a4be4773",
   "metadata": {},
   "source": [
    "# Evaluate the model"
   ]
  },
  {
   "cell_type": "code",
   "execution_count": 12,
   "id": "891adc5b",
   "metadata": {},
   "outputs": [
    {
     "name": "stdout",
     "output_type": "stream",
     "text": [
      "1/1 [==============================] - 0s 31ms/step - loss: 0.0500 - accuracy: 1.0000\n"
     ]
    },
    {
     "data": {
      "text/plain": [
       "[0.050019409507513046, 1.0]"
      ]
     },
     "execution_count": 12,
     "metadata": {},
     "output_type": "execute_result"
    }
   ],
   "source": [
    "model.evaluate(X_test, Y_test)"
   ]
  },
  {
   "cell_type": "markdown",
   "id": "cd92324e",
   "metadata": {},
   "source": [
    "# Predicting on custom input"
   ]
  },
  {
   "cell_type": "code",
   "execution_count": 15,
   "id": "429d0793",
   "metadata": {},
   "outputs": [
    {
     "name": "stdout",
     "output_type": "stream",
     "text": [
      "1/1 [==============================] - 0s 16ms/step\n",
      "Raw Prediction Output (Probabilities): [[1.000000e+00 7.685326e-18 6.722452e-22]]\n",
      "Prediction is ['setosa']\n"
     ]
    }
   ],
   "source": [
    "pred_input=[[2.6,12.,2.4,4.4]]\n",
    "scaled_input=scaler.transform(pred_input)\n",
    "\n",
    "raw_pred=model.predict(scaled_input)\n",
    "print(\"Raw Prediction Output (Probabilities):\",raw_pred)\n",
    "\n",
    "prediction=np.argmax(raw_pred)\n",
    "print(\"Prediction is\",label_encoder.inverse_transform([prediction]))"
   ]
  }
 ],
 "metadata": {
  "kernelspec": {
   "display_name": "Python 3 (ipykernel)",
   "language": "python",
   "name": "python3"
  },
  "language_info": {
   "codemirror_mode": {
    "name": "ipython",
    "version": 3
   },
   "file_extension": ".py",
   "mimetype": "text/x-python",
   "name": "python",
   "nbconvert_exporter": "python",
   "pygments_lexer": "ipython3",
   "version": "3.10.9"
  }
 },
 "nbformat": 4,
 "nbformat_minor": 5
}
